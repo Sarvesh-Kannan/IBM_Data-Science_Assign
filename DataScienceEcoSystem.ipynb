{
 "cells": [
  {
   "cell_type": "markdown",
   "id": "e5a32e57-4405-4404-82fa-90cd69f633b9",
   "metadata": {},
   "source": [
    "# Data Science Tools and Ecosystem "
   ]
  },
  {
   "cell_type": "markdown",
   "id": "37b242a1-acf3-42bc-ac26-41b278dae3ef",
   "metadata": {},
   "source": [
    "## In this Notebook, Data Science Tools and Ecosystem are summarized. "
   ]
  },
  {
   "cell_type": "markdown",
   "id": "bb70f607-6fa2-4ab3-8336-bb01b434bd89",
   "metadata": {},
   "source": [
    "## Author \n",
    "Sarvesh Kannan \n",
    "\n",
    "The primary objective of this notebook is that it can help us to learn more about the data science tools and get a good grasp of it \n",
    "**Objectives**\n",
    "- this list contains a list of the data science libraries\n",
    "- a list of commonly used softwares for data science\n",
    "- a list of tools that are used for data science\n",
    "- basic arithmetics with math"
   ]
  },
  {
   "cell_type": "markdown",
   "id": "89352517-6529-4c09-8bc9-1cab5398b146",
   "metadata": {},
   "source": [
    "### Some of the commonly used libraries that Data Scientists include:\n",
    "1. Python Pandas\n",
    "2. Matplotlib\n",
    "3. seaborn\n",
    "4. R\n",
    "5. Sk learn\n",
    "6. tensorflow\n",
    "7. pytorch"
   ]
  },
  {
   "cell_type": "markdown",
   "id": "e5673e2e-b940-412a-8f06-3f962bf4fa41",
   "metadata": {},
   "source": [
    "### Some of the Commonly used languages that Data Scientists include:\n",
    "1. Python\n",
    "2. R\n",
    "3. Scala"
   ]
  },
  {
   "cell_type": "markdown",
   "id": "8ebab25f-41c8-4626-ac33-69448a5afbeb",
   "metadata": {},
   "source": [
    "### Data Science Tools"
   ]
  },
  {
   "cell_type": "markdown",
   "id": "738228f9-dc51-4248-8535-e1fa7a7f9ee8",
   "metadata": {},
   "source": [
    "| Data Science Tools    |\r\n",
    "|-----------------------|\r\n",
    "| Python                |\r\n",
    "| R                     |\r\n",
    "| SQL                   |\r\n",
    "| Hadoop                |\r\n",
    "| Apache Spark          |\r\n",
    "| TensorFlow            |\r\n",
    "| Keras                 |\r\n",
    "| PyTorch               |\r\n",
    "| Jupyter Notebook      |\r\n",
    "| Tableau               |\r\n",
    "| Power BI              |\r\n",
    "| Microsoft Excel       |\r\n",
    "| SAS                   |\r\n",
    "| MATLAB                |\r\n"
   ]
  },
  {
   "cell_type": "markdown",
   "id": "2b7cb9f0-20e1-4aed-af72-8ec1931ff26b",
   "metadata": {},
   "source": [
    "### Below are a few examples of evaluating Arithmetic expressions in python"
   ]
  },
  {
   "cell_type": "code",
   "execution_count": 13,
   "id": "7e95bd86-280f-4de2-b597-612cabe4eeff",
   "metadata": {},
   "outputs": [
    {
     "data": {
      "text/plain": [
       "17"
      ]
     },
     "execution_count": 13,
     "metadata": {},
     "output_type": "execute_result"
    }
   ],
   "source": [
    "(3*4)+5"
   ]
  },
  {
   "cell_type": "code",
   "execution_count": 16,
   "id": "9eb13507-eebf-4eea-ac69-9e2cfc11a0c1",
   "metadata": {},
   "outputs": [
    {
     "data": {
      "text/plain": [
       "3.3333333333333335"
      ]
     },
     "execution_count": 16,
     "metadata": {},
     "output_type": "execute_result"
    }
   ],
   "source": [
    "200/60"
   ]
  },
  {
   "cell_type": "code",
   "execution_count": null,
   "id": "08fa48c4-6a27-4a1c-978b-2e36183f4969",
   "metadata": {},
   "outputs": [],
   "source": []
  }
 ],
 "metadata": {
  "kernelspec": {
   "display_name": "Python 3 (ipykernel)",
   "language": "python",
   "name": "python3"
  },
  "language_info": {
   "codemirror_mode": {
    "name": "ipython",
    "version": 3
   },
   "file_extension": ".py",
   "mimetype": "text/x-python",
   "name": "python",
   "nbconvert_exporter": "python",
   "pygments_lexer": "ipython3",
   "version": "3.11.7"
  }
 },
 "nbformat": 4,
 "nbformat_minor": 5
}
